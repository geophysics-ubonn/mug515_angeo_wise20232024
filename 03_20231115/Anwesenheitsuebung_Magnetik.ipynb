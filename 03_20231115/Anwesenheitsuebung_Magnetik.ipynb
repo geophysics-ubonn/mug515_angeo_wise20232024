{
 "cells": [
  {
   "cell_type": "markdown",
   "metadata": {},
   "source": [
    "# Auswertung und Darstellung von Magnetikdaten\n",
    "Im Gelände wurden zwei Sets von Magnetikdaten aufgenommen. Bei diesen Messungen wurde eine Basisstation aufgestellt, die bei fixer Postition die zeitlichen Veränderungen im Magnetfeld aufzeichnet, und ein Mobiles System (Rover) genutzt, welches ein Profil abfährt und so räumliche Veränderungen aufzeichnet. Mithilfe der Basisstation können die relativen räumlichen Änderungen berechnet und Korrekturen für zeitliche Effekte durchgeführt werden. Erstellen Sie aus den mobilen Daten und den Basiswerten eine Karte der 3D Verteilung der Abweichungen Magnetfeldstärke von der Basisstation.\n",
    "Dazu müssen folgende Schritte durchgeführt werden:\n",
    "\n",
    "* Laden Sie die Datensets ein und filtern sie Ausreißer in den Datensets.\n",
    "\n",
    "* Filtern Sie x,y und z Koordinaten, die 0 entsprechen\n",
    "\n",
    "* Filtern Sie Datenpunkte die eine Signalquality von unter 90 besitzen\n",
    "\n",
    "* Die Daten der Basisstation wurden in 2 Sekunden Schritten aufgenommen, die Roverdaten halbsekündlich. Interpolieren Sie die Basisdaten halbsekündliche Schritte und berechnen Sie relativen Änderungen. Nutzen sie für die Interpolation si.interp1d(x,y, kind='cubic')\n",
    "\n",
    "* Stellen Sie die Daten in einem 2D (ohne Höhe) und 3D-Plot (inklusive Höhe) dar\n",
    "\n",
    "## Tips\n",
    "\n",
    "* Alternativ (empfohlen): Benutzen Sie **pandas.read_csv** zum Einlesen der Daten. Ggf. Hilfe der Funktion studieren!"
   ]
  }
 ],
 "metadata": {
  "kernelspec": {
   "display_name": "Python 3 (ipykernel)",
   "language": "python",
   "name": "python3"
  },
  "language_info": {
   "codemirror_mode": {
    "name": "ipython",
    "version": 3
   },
   "file_extension": ".py",
   "mimetype": "text/x-python",
   "name": "python",
   "nbconvert_exporter": "python",
   "pygments_lexer": "ipython3",
   "version": "3.11.2"
  }
 },
 "nbformat": 4,
 "nbformat_minor": 4
}
