{
 "cells": [
  {
   "cell_type": "markdown",
   "metadata": {},
   "source": [
    "# Geoelektrische Inversion\n",
    "\n",
    "Die geoelktrische Inversion hat das Ziel, ein Untergrundmodell (spez. elektrische Widerstände) zu erzeugen, welches möglichst gut die Messdaten (elektrische Widerstände) erklären kann. Dies geschieht im Rahmen einer **least-squares**-Anpassung:\n",
    "\n",
    "$$\\Psi_d = \\sqrt{\n",
    "\\sum_i^N \\left(\\frac{\n",
    "    d_i - f_i(\\mathbf{m})\n",
    "}{\n",
    "\\epsilon_i\n",
    "}\n",
    "\\right)^2\n",
    "},$$\n",
    "\n",
    "mit:\n",
    "\n",
    "* $N$: Anzahl der Datenpunkte\n",
    "* $d_i$: der i-te Datenpunkt (Messwert)\n",
    "* $f_i(\\mathbf{m})$: Die **Vorwärtsantwort**, also die erwarteten Messwerte für ein\n",
    "* $\\mathbf{m}$: Untergrundmodell mit M spezischen Widerstandswerten (die räumliche Verteilung der Materialeigenschaften)\n",
    "* $\\epsilon_i$: der i-te Datenfehler. Wir formulieren unsere Datenfehler mit Hilfe eines Fehlermodelles, welchen den Datenfehler aus einer absoluten und einer relativen Komponente bestimmt:\n",
    "    $$\\epsilon_i = a \\cdot R_i + b,$$\n",
    "    wobei $R_i = d_i$ der i-te Messwert $[\\Omega]$ ist. $a$ ist der relative Messwert, unten angegeben als Prozentwert \n",
    "    `tdm.crtomo_cfg[\"mag_rel\"] = 1`, $b$ ist der absolute Messwert in $[\\Omega]$, angeben im Code hier: `tdm.crtomo_cfg[\"mag_abs\"] = 1e-3`.\n",
    "* $\\Psi_d$ wird der **Datenmisfit** genannt\n",
    "\n",
    "Der Misfit ist auch das erste Kriterium zur Bewertung einer Inversion: Wenn alle Datenpunkte *im Mittel* innerhalb ihres Datenfehlers angepasst wurden, dann geht der Datenmisfit (in unserem Fall auch der **RMS**-Root mean square, genannt) gegen 1.\n",
    "\n",
    "* Werte über 1 werden nicht im Rahmen der Fehler angepasst. Das Ergebnis ist **ünterfittet**\n",
    "    * Ausreißer suchen (systematische Fehler) und entfernen\n",
    "    * Alternativ: Falls Datenfehler geraten werden, systematisch verkleinern, bis RMS von 1 erreicht ist\n",
    "* Werte unter 1 bedeuten, dass Rauschkomponenten gefittet werden. Das Ergebnis ist **überfittet**\n",
    "    * Datenfehler in der Inversion größer machen\n",
    "    \n",
    "Ein weiteres Kriterium zur Bewertung von Inversionen ist das Bild an sich. Ist es zu inhomogen, deutet dies auf **Artefakte** hin, also künstliche Strukturen, welcher von der Inversion eingebaut wurden, um Rauschkomponenten zu erklären. Diese Strukturen sind klein (Elektrodenabstand und kleiner) und treten oft als Dipolstrukturen mit nahe beieinander liegenden großen und kleinen Werten auf.\n",
    "\n",
    "## Wichtige Nebenbenwerkung zu Misfits (Stichwort: Unterbestimmheit und Regularisierung)\n",
    "\n",
    "Das geoelektrische Problem ist ein **gemischt-bestimmtes (mixed-determined)** Problem. Das heißt, dass manche Modellparameter genau oder überbestimmt sind, während andere unterbestimmt sind. Für überbestimmte Parameter braucht man den least-squares-Ansatz, um verrauschte Daten auswerten zu können. Für unterbestimmte Modellparameter benötigen wir jedoch **Zusatzinformationen**. Diese werden durch das Konzept der **Regularisierung** in den Invevrsionsprozess eingebracht. Die Stärke der Regularisierung wird durch den $\\lambda$-Parameter bestimmt (siehe spalte *lambda* unten bei den Inversionsstatistiken).\n",
    "\n",
    "\n",
    "## Durchführung der Inversion\n",
    "\n",
    "* Erstellung eines Modellierung- und Inversionsgitters\n",
    "* Erstellen eines Vorwärtsmodells\n",
    "* Erstellen von Messkonfigurationen\n",
    "* Berechnen synthetischer Daten und verrauschen der Daten\n",
    "* Vorbereiten der Inversion\n",
    "* Durchführen der Inversion\n",
    "* Darstellung/Auswertung der Ergebnisse\n",
    "\n",
    "## Literatur\n",
    "\n",
    "* Everett, Inversionskapitel"
   ]
  },
  {
   "cell_type": "code",
   "execution_count": null,
   "metadata": {
    "tags": []
   },
   "outputs": [],
   "source": [
    "import os\n",
    "import shutil\n",
    "\n",
    "import crtomo\n",
    "import reda\n",
    "\n",
    "import matplotlib.pyplot as plt\n",
    "import numpy as np\n",
    "import pandas as pd\n",
    "import math\n",
    "\n",
    "import string\n",
    "import copy\n",
    "\n",
    "os.environ[\"PATH\"] += os.pathsep + '/opt/Anaconda3/envs/crtomo/bin'"
   ]
  },
  {
   "cell_type": "markdown",
   "metadata": {},
   "source": [
    "# Ein synthetisches Beispiel\n",
    "\n",
    "## Gittererstellung"
   ]
  },
  {
   "cell_type": "code",
   "execution_count": null,
   "metadata": {},
   "outputs": [],
   "source": [
    "import crtomo\n",
    "grid = crtomo.crt_grid.create_surface_grid(\n",
    "    nr_electrodes=20, spacing=1, char_lengths=[0.5, 2, 2, 2]\n",
    ")\n",
    "\n",
    "grid.plot_grid()\n",
    "\n",
    "# create the tdManager instance used for the inversion\n",
    "tdm = crtomo.tdMan(grid=grid)"
   ]
  },
  {
   "cell_type": "markdown",
   "metadata": {},
   "source": [
    "## Definition Vorwärtsmodell"
   ]
  },
  {
   "cell_type": "code",
   "execution_count": null,
   "metadata": {},
   "outputs": [],
   "source": [
    "# start with a homgeneous model of 1000 Ohm m\n",
    "pid_mag, _ = tdm.add_homogeneous_model(1000)"
   ]
  },
  {
   "cell_type": "code",
   "execution_count": null,
   "metadata": {},
   "outputs": [],
   "source": [
    "tdm.parman.modify_area(\n",
    "    pid_mag,\n",
    "    xmin=0,\n",
    "    xmax=8,\n",
    "    zmin=-6,\n",
    "    zmax=0,\n",
    "    value=10,\n",
    ")\n",
    "\n",
    "fig, axes = tdm.plot_forward_models()\n",
    "fig.set_figwidth(45 / 2.54)\n",
    "fig.set_figheight(25 / 2.54)"
   ]
  },
  {
   "cell_type": "markdown",
   "metadata": {},
   "source": [
    "## Messkonfigurationen"
   ]
  },
  {
   "cell_type": "code",
   "execution_count": null,
   "metadata": {},
   "outputs": [],
   "source": [
    "import reda\n",
    "configs = reda.ConfigManager(20)\n",
    "configs.gen_dipole_dipole(skipc=0)\n",
    "\n",
    "configs.gen_reciprocals(append=True)\n",
    "# register the configurations with the inversion object\n",
    "tdm.configs.add_to_configs(configs.configs)"
   ]
  },
  {
   "cell_type": "markdown",
   "metadata": {},
   "source": [
    "## Vorwärtsmodellierung"
   ]
  },
  {
   "cell_type": "code",
   "execution_count": null,
   "metadata": {},
   "outputs": [],
   "source": [
    "tdm.model()    "
   ]
  },
  {
   "cell_type": "code",
   "execution_count": null,
   "metadata": {},
   "outputs": [],
   "source": [
    "# print generated synthetic measurements\n",
    "# first column: resistances\n",
    "# second column: phase values (ignored in this example)\n",
    "tdm.measurements()"
   ]
  },
  {
   "cell_type": "markdown",
   "metadata": {},
   "source": [
    "## Verrauschen der synthetischen Daten"
   ]
  },
  {
   "cell_type": "code",
   "execution_count": null,
   "metadata": {},
   "outputs": [],
   "source": [
    "rmag = tdm.measurements()[:, 0]\n",
    "rpha = tdm.measurements()[:, 1]\n",
    "# Important: ALWAYS initialize the random number generator using a seed!\n",
    "np.random.seed(2048)\n",
    "\n",
    "# absolute component in [Ohm ]\n",
    "noise_level_rmag_absolute = 0.01\n",
    "# relative component [0, 1]\n",
    "noise_level_rmag_relative = 0.15\n",
    "\n",
    "noise_rmag = np.random.normal(\n",
    "    loc=0,\n",
    "    scale=rmag * noise_level_rmag_relative + noise_level_rmag_absolute\n",
    ")\n",
    "\n",
    "rmag_with_noise = rmag + noise_rmag\n",
    "\n",
    "# 0.5 mrad absolute noise level\n",
    "noise_level_phases = 0.5\n",
    "\n",
    "noise_rpha = np.random.normal(\n",
    "    loc=0,\n",
    "    scale=noise_level_phases\n",
    ")\n",
    "rpha_with_noise = rpha + noise_rpha\n",
    "\n",
    "# register the noise-added data as new measurements and mark them for use in a\n",
    "# subsequent inversion\n",
    "tdm.register_measurements(rmag_with_noise, rpha_with_noise)"
   ]
  },
  {
   "cell_type": "code",
   "execution_count": null,
   "metadata": {},
   "outputs": [],
   "source": [
    "indices = np.where(rmag_with_noise <= 0)[0]\n",
    "tdm.configs.delete_data_points(indices)"
   ]
  },
  {
   "cell_type": "markdown",
   "metadata": {},
   "source": [
    "## Darstellung der synthetischen Rohdaten in einer Pseudosektion"
   ]
  },
  {
   "cell_type": "code",
   "execution_count": null,
   "metadata": {},
   "outputs": [],
   "source": [
    "ert = reda.ERT()\n",
    "data = pd.DataFrame(\n",
    "    np.hstack((\n",
    "        tdm.configs.configs,\n",
    "        tdm.measurements()[:, 0, np.newaxis]\n",
    "    )),\n",
    "    columns=['a', 'b', 'm', 'n', 'r'],\n",
    ")\n",
    "# cast abmn columns to int\n",
    "for colname in 'abmn':\n",
    "    data[colname] = data[colname].astype(int)\n",
    "\n",
    "ert.add_dataframe(data)\n",
    "fig, ax, cb = ert.pseudosection(log10=True)\n",
    "fig.set_figwidth(10)\n",
    "fig.set_figheight(10)"
   ]
  },
  {
   "cell_type": "markdown",
   "metadata": {},
   "source": [
    "## Durchführen der Inversion"
   ]
  },
  {
   "cell_type": "code",
   "execution_count": null,
   "metadata": {},
   "outputs": [],
   "source": [
    "# Fehlerannahme: relativ 15 %\n",
    "tdm.crtomo_cfg[\"mag_rel\"] = 15\n",
    "# Absolute Fehleranname: 0.01 Ohm\n",
    "tdm.crtomo_cfg[\"mag_abs\"] = 1e-2\n",
    "\n",
    "tdm.crtomo_cfg[\"dc_inv\"] = \"T\"\n",
    "tdm.crtomo_cfg[\"robust_inv\"] = \"F\"\n",
    "tdm.crtomo_cfg[\"diff_inv\"] = \"F\""
   ]
  },
  {
   "cell_type": "code",
   "execution_count": null,
   "metadata": {},
   "outputs": [],
   "source": [
    "outdir = 'td_syn'\n",
    "if os.path.isdir(outdir):\n",
    "    # delete directory\n",
    "    shutil.rmtree(outdir)\n",
    "    \n",
    "# das hier ist die eigentliche Inversion\n",
    "# Dauert einige Minuten !\n",
    "tdm.invert(cores=4, output_directory=outdir)"
   ]
  },
  {
   "cell_type": "markdown",
   "metadata": {},
   "source": [
    "## Darstellung der Ergebnisse"
   ]
  },
  {
   "cell_type": "code",
   "execution_count": null,
   "metadata": {
    "tags": []
   },
   "outputs": [],
   "source": [
    "# compute a plot mask based on the coverage (=cumulated sensitivity), which is a\n",
    "# weak (!) indicator for data resolution\n",
    "l1_coverage = tdm.parman.parsets[\n",
    "    tdm.a['inversion']['l1_dw_log10_norm']\n",
    "] * 1\n",
    "abscov = np.abs(l1_coverage)\n",
    "normcov = np.divide(abscov, 3)\n",
    "normcov[np.where(normcov > 1)] = 1\n",
    "mask = np.subtract(1, normcov)\n",
    "\n",
    "# add this mask to our inversion objectso we can refer to it later\n",
    "cov_id = tdm.parman.add_data(mask)"
   ]
  },
  {
   "cell_type": "code",
   "execution_count": null,
   "metadata": {
    "tags": []
   },
   "outputs": [],
   "source": [
    "fig, ax = plt.subplots(figsize=(10, 5))\n",
    "\n",
    "pid_rmag = tdm.a[\"inversion\"][\"rmag\"][-1]\n",
    "rmag = tdm.parman.parsets[pid_rmag]\n",
    "\n",
    "tdm.plot.plot_elements_to_ax(\n",
    "    cid=pid_rmag,\n",
    "    # comment out the next line to see the full inversion without an alpha mask\n",
    "    cid_alpha=cov_id,\n",
    "    ax=ax,\n",
    "    plot_colorbar=True,\n",
    "    cmap_name='jet',\n",
    "    cblabel=r'$log_{10}(|\\rho| [\\Omega m])$',\n",
    "    converter=np.log10,\n",
    "    no_elecs=True\n",
    ")\n",
    "ax.set_title(\"Inversionsergebnis\")\n",
    "# ax.set_title(\"mag rel: {}\".format(mag_rel))\n",
    "fig.tight_layout()\n",
    "\n",
    "# fig.savefig(\"inversions_ergebnis.jpeg\", bbox_inches=\"tight\", dpi=300)"
   ]
  },
  {
   "cell_type": "markdown",
   "metadata": {},
   "source": [
    "## Kontrolle der RMS-Werte"
   ]
  },
  {
   "cell_type": "code",
   "execution_count": null,
   "metadata": {},
   "outputs": [],
   "source": [
    "# print data misfit for final iteration\n",
    "tdm.inv_stats.query('type == \"main\"')"
   ]
  },
  {
   "cell_type": "markdown",
   "metadata": {},
   "source": [
    "## Aufgaben\n",
    "\n",
    "* Invertieren sie mit zu kleinen Datenfehlern\n",
    "* Invertieren sie mit zu großen Datenfehlern\n",
    "\n",
    "Wie verändern sich die Ergebnisse?"
   ]
  }
 ],
 "metadata": {
  "kernelspec": {
   "display_name": "CRTomo (crtomo_stable, crtomo-tools 0.2.2, REDA 0.1.6.dev0, sip-models 0.1.3, gmesh)",
   "language": "python",
   "name": "crtomo"
  },
  "language_info": {
   "codemirror_mode": {
    "name": "ipython",
    "version": 3
   },
   "file_extension": ".py",
   "mimetype": "text/x-python",
   "name": "python",
   "nbconvert_exporter": "python",
   "pygments_lexer": "ipython3",
   "version": "3.10.4"
  }
 },
 "nbformat": 4,
 "nbformat_minor": 4
}
