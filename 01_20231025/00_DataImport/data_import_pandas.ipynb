{
 "cells": [
  {
   "cell_type": "code",
   "execution_count": null,
   "id": "99732497-3c7c-4bc7-8cf9-697b067e3770",
   "metadata": {},
   "outputs": [],
   "source": [
    "import pandas as pd"
   ]
  },
  {
   "cell_type": "markdown",
   "id": "b2f212c5-25e2-46aa-aee6-f74b9bda82da",
   "metadata": {},
   "source": [
    "# Einlesen der Daten und erste Inspektion"
   ]
  },
  {
   "cell_type": "code",
   "execution_count": null,
   "id": "2c5eef6a-c894-40c4-af7b-754dde993e72",
   "metadata": {},
   "outputs": [],
   "source": [
    "data = pd.read_csv('data_schilthorn_sp.csv', parse_dates=[1, ] )\n",
    "print(data.columns)\n",
    "print(data.dtypes)\n",
    "print(data)"
   ]
  },
  {
   "cell_type": "markdown",
   "id": "2c29a152-d0ae-4d0c-8e7a-b7e0c616ff27",
   "metadata": {},
   "source": [
    "## Umbennen von Spalten"
   ]
  },
  {
   "cell_type": "code",
   "execution_count": null,
   "id": "1d4ecff6-ba69-4e2f-9ff0-75fc36092de8",
   "metadata": {},
   "outputs": [],
   "source": [
    "data_renamed = data.rename(\n",
    "    {\n",
    "        'Unnamed: 0.1': \"datetime\",\n",
    "    },\n",
    "    axis=1\n",
    ").set_index('datetime')\n",
    "print(data_renamed)"
   ]
  },
  {
   "cell_type": "markdown",
   "id": "06c0a86e-c39b-4f40-ad19-e452300cafb0",
   "metadata": {},
   "source": [
    "## Zeitachse einschränken"
   ]
  },
  {
   "cell_type": "code",
   "execution_count": null,
   "id": "b67c5871-a3b6-4e3b-8cff-0a48e5afc439",
   "metadata": {},
   "outputs": [],
   "source": [
    "import datetime\n",
    "data_no_nan = data_renamed.truncate(\n",
    "    before=datetime.datetime(2017, 1, 1),\n",
    ")\n",
    "print(data_no_nan)"
   ]
  },
  {
   "cell_type": "markdown",
   "id": "339e3cdf-1aeb-4060-9edb-81518e028457",
   "metadata": {},
   "source": [
    "## Unnütze Spalten entfernen"
   ]
  },
  {
   "cell_type": "code",
   "execution_count": null,
   "id": "b025cbb6-f93b-4c43-896b-f611aab6d838",
   "metadata": {},
   "outputs": [],
   "source": [
    "data_no_nan_clean = data_no_nan[['E02-E01', 'E03-E01']]\n",
    "print(data_no_nan_clean)"
   ]
  },
  {
   "cell_type": "markdown",
   "id": "c1118da5-e852-44b2-b745-35e7178df5f3",
   "metadata": {},
   "source": [
    "## NaN-Werte entfernen"
   ]
  },
  {
   "cell_type": "code",
   "execution_count": null,
   "id": "e1fe64ca-e03a-4a39-938d-831f9fafefdd",
   "metadata": {},
   "outputs": [],
   "source": [
    "data_clean = data_no_nan_clean.dropna(how='all')\n",
    "print(data_clean)"
   ]
  },
  {
   "cell_type": "code",
   "execution_count": null,
   "id": "15ea1e1f-f62a-4469-a21f-f2ce21dfb568",
   "metadata": {},
   "outputs": [],
   "source": [
    "data_clean.plot()"
   ]
  },
  {
   "cell_type": "markdown",
   "id": "c565040e-5de7-40cd-864f-bd59a3aa9ff7",
   "metadata": {},
   "source": [
    "## Threshold-Filtern"
   ]
  },
  {
   "cell_type": "code",
   "execution_count": null,
   "id": "e9facde8-e7ff-49e0-a7eb-14a97b2df3b3",
   "metadata": {},
   "outputs": [],
   "source": [
    "data_filtered = data_clean[data_clean['E03-E01'] < 100]\n",
    "data_filtered.plot()"
   ]
  },
  {
   "cell_type": "markdown",
   "id": "1896c3a5-4780-4916-9464-29fab0ac7e83",
   "metadata": {},
   "source": [
    "## Andere Filter"
   ]
  },
  {
   "cell_type": "code",
   "execution_count": null,
   "id": "920ab0a3-ba04-4d84-9016-621d60ea7721",
   "metadata": {},
   "outputs": [],
   "source": [
    "data_ma = data_filtered.rolling('72H').mean()\n",
    "data_ma.plot()\n",
    "data_mm = data_filtered.rolling('72H').median()\n",
    "data_mm.plot()\n",
    "data_filtered.rolling('72H').min().plot()\n",
    "data_filtered.rolling('72H').max().plot()"
   ]
  },
  {
   "cell_type": "markdown",
   "id": "a57d102c-aa0e-4d69-8b5c-99b8254037a4",
   "metadata": {},
   "source": [
    "## Interpolation auf reguläre Zeitabstände"
   ]
  },
  {
   "cell_type": "code",
   "execution_count": null,
   "id": "3089af87-52ea-47ca-bd7b-ad0b3428fb61",
   "metadata": {},
   "outputs": [],
   "source": [
    "# create a new index with regular intervals\n",
    "index_new = pd.date_range(data_clean.index.min(), data_clean.index.max())\n",
    "data_clean.reindex(index_new, method='nearest').plot()"
   ]
  },
  {
   "cell_type": "code",
   "execution_count": null,
   "id": "98bc518d-c431-4224-9c2e-a39d244e893b",
   "metadata": {
    "tags": []
   },
   "outputs": [],
   "source": [
    "import numpy as np\n",
    "# combine old and new indices\n",
    "index = np.hstack((data_clean.index, index_new))\n",
    "data_new_index = data_clean.reindex(index).sort_index()\n",
    "data_new_index.plot()\n",
    "# this interpolates linearly\n",
    "data_new_index.interpolate().plot()"
   ]
  }
 ],
 "metadata": {
  "kernelspec": {
   "display_name": "Python 3 (ipykernel)",
   "language": "python",
   "name": "python3"
  },
  "language_info": {
   "codemirror_mode": {
    "name": "ipython",
    "version": 3
   },
   "file_extension": ".py",
   "mimetype": "text/x-python",
   "name": "python",
   "nbconvert_exporter": "python",
   "pygments_lexer": "ipython3",
   "version": "3.7.3"
  }
 },
 "nbformat": 4,
 "nbformat_minor": 5
}
