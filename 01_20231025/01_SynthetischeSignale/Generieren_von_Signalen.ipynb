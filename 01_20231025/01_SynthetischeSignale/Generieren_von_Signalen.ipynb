{
 "cells": [
  {
   "cell_type": "markdown",
   "metadata": {},
   "source": [
    "# Signalverarbeitung"
   ]
  },
  {
   "cell_type": "markdown",
   "metadata": {},
   "source": [
    "a) Erstellen Sie das Signal $$f(t) = 3sin(8πt) + 5sin(4πt)$$mit einer maximalen Dauer von 5s. Dieses Signal registriert Ihr Geophon im Feld und muss für die weitere Verarbeitung digital abgetastet werden. Verwenden Sie hierfür die Abtastraten 1, 5, 20 und 100Hz. Plotten Sie jeweils Ihre abgetasteten Signale. Was fällt Ihnen auf?"
   ]
  },
  {
   "cell_type": "code",
   "execution_count": 1,
   "metadata": {},
   "outputs": [],
   "source": [
    "import numpy as np\n",
    "import math\n",
    "import matplotlib.pyplot as plt\n",
    "%matplotlib inline  "
   ]
  },
  {
   "cell_type": "markdown",
   "metadata": {},
   "source": [
    "b) Berechnen Sie die Fourier-Transformierte des Signals aus a) mit 100 Hz Abtastrate. Verwenden Sie hierfür die Funktion np.fft.fft(x, n), wobei x die Daten für die 100Hz Abtastrate und n die Anzahl der Datenpunkte ist. Plotten Sie das resultierende Amplitudenspektrum gegen die Frequenz. Interpretieren Sie Ihren Plot kurz.\n",
    "\n",
    "Die Amplituden können sie aus dem Betrag der Fourierkoeffizienten über die Anzahl der Datenpunkte normiert erhalten. Die Frequenzen errechnen sich aus der Periode (oder Samplespacing) und der Anzahl der Datenpunkte mit np.fft.fftfreq(N,T)."
   ]
  }
 ],
 "metadata": {
  "kernelspec": {
   "display_name": "Python 3 (ipykernel)",
   "language": "python",
   "name": "python3"
  },
  "language_info": {
   "codemirror_mode": {
    "name": "ipython",
    "version": 3
   },
   "file_extension": ".py",
   "mimetype": "text/x-python",
   "name": "python",
   "nbconvert_exporter": "python",
   "pygments_lexer": "ipython3",
   "version": "3.7.3"
  }
 },
 "nbformat": 4,
 "nbformat_minor": 4
}
